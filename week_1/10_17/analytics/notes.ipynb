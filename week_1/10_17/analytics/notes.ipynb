{
 "cells": [
  {
   "cell_type": "markdown",
   "metadata": {},
   "source": [
    "# Analytics Notes\n",
    "\n",
    "As each group will be working on seperate types of projects, you will also receive seperate resources and learning material. However, always feel free to check out the resources and topics from the alternative data engineering track.\n",
    "\n",
    "The analytics group will review the following conceptual and technical topics:\n",
    "\n",
    "* Statistics & Machine Learning\n",
    "* Data analysis & cleaning via pandas\n",
    "* Scripting via Python\n",
    "* Data management via SQL\n",
    "\n",
    "These notes will ential a brief overview of each concept that we will encounter, as well as relevant self-study material. \n",
    "\n",
    "We will spend time lightly going over each topic throughout this program. To supplement any topic which we do not go over, please review the relevant slides, videos, and links that we post each week. "
   ]
  },
  {
   "cell_type": "markdown",
   "metadata": {},
   "source": [
    "![stats ant](../../images/DALLE2024-10-0110.55.16-Pixelartofasmallantstandinguprightlookingatalinechartwithapositivetrend.Thechartisdisplayedonasmallstandandthelinegraph-ezgif.com-resize.jpg)  \n",
    "*Dall-E Prompt: Can you please make me a pixel art of a small [ant] analyzing a line chart that has a positive trend.*\n",
    "\n",
    "## Statistics & Probability\n",
    "\n",
    "At the heart of data analytics and data is statistics. This field of mathematics emerged in the late 18th century in order to understand the patterns and trends of large industrialized societies(https://en.wikipedia.org/wiki/History_of_statistics). According to the Online Etymology Dictionary, the word \"statistics\" is defined as the \"science dealing with data about the condition of a state or community\"(https://www.etymonline.com/word/statistics), hence the presence of the word \"state\" in statistics. It's no surprise then, that when we review large and rich datasets, we utilize techniques formalized within this mathematical field.\n",
    "\n",
    "Another field that is integral to the analysis and prediction of data is probability. This field had its roots in games dealing with chance, i.e. gambling(https://en.wikipedia.org/wiki/History_of_probability). The ability to quantify uncertainity in coin flips and dice rolls has found use in machine learning models, as it gives us the ability to discern \"good\" and \"bad\" models. \n",
    "\n",
    "Within this program we will touch on concepts in descriptive and confirmatory statistics, as well as probability. Descriptive statistics entail calculations that describe the features of a sample dataset, while confirmatory statistics aim to prove or falsify a narrow hypothesis that we define. \n",
    "\n",
    "For our scope of work for the AEP project, we will focus on providing comprehensive descriptive calculations, as opposed to proving or predicting outcomes for our dataset.\n",
    "\n",
    "## Resources\n",
    "\n",
    "[Learning Statistics with R](https://learningstatisticswithr.com/)\n",
    "\n",
    "* Ch 3:  Descriptive statistics\n",
    "* Ch 9: Introduction to probability\n",
    "* CH 10: Estimating unknown quantities from a sample\n",
    "* Ch 11: Hypothesis testing\n",
    "* Ch 12: Categorical data analysis\n",
    "* Ch 13: Comparing two means\n",
    "\n",
    "This is a comprehensive textbook that explores all the foundational topics needed for a firm understanding of the applications of descriptive calculations and hypothesis testing in an experiment setting. While we will not be setting up our own experiments, nor will we be using R, this textbooks is nonetheles an excellent introduction or refresher to the statistical methods we will encounter as analysts. \n",
    "\n",
    "[Khan Acadmey - AP Statistics](https://www.khanacademy.org/math/ap-statistics)\n",
    "\n",
    "* Unit 1 : Exploring Categorical Data\n",
    "* Unit 2 : Exploring one-variable Quantitative Variable : Displaying & Describing\n",
    "* Unit 3 : Exploring one-variable Quantitative Variable: Summary Stats\n",
    "* Unit 4 : Exploring one-variable Quantitative Variable: Z-Scores & Percentiles\n",
    "* Unit 5 : Exploring two-variable Quantitative Data\n",
    "* Unit 7 : Probability\n",
    "\n",
    "While this is technically a \"high school\" course, the modules and topics that Khan goes over are essential to getting a strong understanding of the machine learning concepts that we will encounter. Furthermore, if you prefer a more interactive learning experience, Khan Academy is usually your best bet."
   ]
  },
  {
   "cell_type": "markdown",
   "metadata": {},
   "source": [
    "![ml ant](../../images/DALLE2024-10-0111.24.38-Pixelartofasmallcyborgantstandinguprightwithmetallicpartsintegratedintoitsbodylikearoboticeyeandmechanicallimbs.Theantshoul-ezgif.com-resize.jpg)  \n",
    "*Dall-E Prompt: Can you make me pixel art of the same ant, however this time as a cyborg.*\n",
    "\n",
    "## Machine Learning\n",
    "\n",
    "After reviewing our understanding of statistics, we will also survey a few machine learning techniques that will allow us to perform advanced data analysis on our datasets. While your project's preconditions do not require a machine learning component, we leave this option open if you're looking for a challenge.\n",
    "\n",
    "We will review both supervised and unsupervised learning. Supervised learning entails mathematical optimization to learn the weights and parameters that result in a model or formula that best approximates our historical data, unsupervised learning entails dimensionality reduction, data transformation, as well as clustering.\n",
    "\n",
    "For example, a supervised learning algorithm would learn the optimal weights which best models the relationship between an apartments square footage and price, whereas an unsupervised model would instead be applied to a music recommendation system to provide songs that a specific user would most \"likely\" enjoy based on their listening trends.\n",
    "\n",
    "As we review these concepts, we recommend that you ideate which machine learning models would be appropriate for your personal project.\n",
    "\n",
    "## Resources\n",
    "\n",
    "[A Gentle Introduction to Machine Learning](https://www.youtube.com/watch?v=Gv9_4yMHFhI)\n",
    "\n",
    "Arguably the greatest channel for gaining an introductory understanding to machine learning concepts. Heavily relies on visual aids and example-based learning to explain everything from basic linear regression to convolutional neural nets. This video provides a light introduction to machine learning\n",
    "\n",
    "[Stanford CS229: Machine Learning Course, Lecture 1](https://www.youtube.com/watch?v=jGwO_UgTS7I&t=2062s)\n",
    "\n",
    "Another one of the \"greatest\" (according to Farukh) resources to learn machine learning concepts. "
   ]
  },
  {
   "cell_type": "markdown",
   "metadata": {},
   "source": [
    "![script ant](../../images/DALLE2024-10-0413.40.04-Pixelartofasmallantpracticingcursivewritingonapieceofpaper.Theantisholdingatinypencilwithitsfrontlegsandthepaperhasafew-ezgif.com-resize.jpg)\n",
    "\n",
    "## Scripting\n",
    "\n",
    "Every data analyst/scientist should be a competent engineer, or at the very least, a competent hacker. Unlike the data engineering track, we will not ask you to perform algorithmic analysis and computational thinking when designing your scripts (although it would be useful to have a baseline understanding of these concepts). Instead, we will review the idiomatic languages and packages that we use when performing data transformations, exploratory analysis, and light statistical calculations. However this does **not** mean that you should forego basic coding skills. The ability to automate away some tedious task will make you a powerful data scientist. \n",
    "\n",
    "You will notice that there are many options when it comes to choosing a scripting language. For this program, we will prioritize Python due to its ubitquity in the technical workforce, but you should feel free to explore any other language that catches your interest. Reaffirming concepts across languages will make you a stronger coder. \n",
    "\n",
    "## Tools of the Trade\n",
    "\n",
    "* [Python](https://realpython.com/tutorials/basics/)\n",
    "* [R](https://cran.r-project.org/doc/manuals/r-release/R-intro.pdf)\n",
    "* [bash](https://www.freecodecamp.org/news/bash-scripting-tutorial-linux-shell-script-and-command-line-for-beginners/)\n",
    "\n",
    "## Resources\n",
    "\n",
    "[CS50x 2024 - Lecture 0](https://www.youtube.com/watch?v=3LPJfIKxwWc&list=PLhQjrBD2T381WAHyx1pq-sBfykqMBI7V4)\n",
    "\n",
    "An excellent video series to learn about computer science and programming. This course starts simple, but goes into some complex topics. I highly recommending completing this entire course!\n",
    "\n",
    "[R for Data Science](https://r4ds.had.co.nz/introduction.html)\n",
    "\n",
    "An online textbook on the R programming language for data science. Very comprehensive and goes over a plethora of subjects."
   ]
  },
  {
   "cell_type": "markdown",
   "metadata": {},
   "source": [
    "## Exploratory Data Analysis\n",
    "\n",
    "\n",
    "\n",
    "## Tools of the Trade\n",
    "\n",
    "* [Excel]()\n",
    "* [pandas]()\n",
    "\n",
    "## Resources\n",
    "\n"
   ]
  },
  {
   "cell_type": "markdown",
   "metadata": {},
   "source": [
    "## Prescriptive Data Analysis\n",
    "\n",
    "\n",
    "\n",
    "## Tools of the Trade\n",
    "\n",
    "\n",
    "\n",
    "## Resources\n",
    "\n",
    " "
   ]
  },
  {
   "cell_type": "markdown",
   "metadata": {},
   "source": [
    "## Data Cleaning\n",
    "\n",
    "\n",
    "\n",
    "## Tools of the Trade\n",
    "\n",
    "* [pandas]()\n",
    "* [polars]()\n",
    "\n",
    "## Resources\n",
    "\n"
   ]
  },
  {
   "cell_type": "markdown",
   "metadata": {},
   "source": [
    "## Data Dashboarding\n",
    "\n",
    "\n",
    "\n",
    "## Tools of the Trade\n",
    "\n",
    "* [streamlit](https://streamlit.io/)\n",
    "* [Shiny](https://shiny.posit.co/py/)\n",
    "* [Tableau](https://www.tableau.com/)\n",
    "\n",
    "## Resources\n",
    "\n"
   ]
  }
 ],
 "metadata": {
  "language_info": {
   "name": "python"
  }
 },
 "nbformat": 4,
 "nbformat_minor": 2
}
