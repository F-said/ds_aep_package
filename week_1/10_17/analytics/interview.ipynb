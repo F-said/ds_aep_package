{
 "cells": [
  {
   "cell_type": "markdown",
   "metadata": {},
   "source": [
    "# Interview Question - Assumptions of Linear Regression\n",
    "\n",
    "What are the assumptions underlying linear regression? There are 4 specific assumptions that you make when running a linear regression model. Any violation of this assumption will generate unreliable or misleading predictions."
   ]
  },
  {
   "cell_type": "markdown",
   "metadata": {},
   "source": [
    "1) \n",
    "2) \n",
    "3) \n",
    "4) "
   ]
  },
  {
   "cell_type": "markdown",
   "metadata": {},
   "source": [
    "## Helpful Hints\n",
    "\n",
    "If you are stuck on the 4 assumptions of linear regression, think back to the datasets you've applied linear regression to. What were the underlying assumptions we made about these datasets before we \"fit\" a linear regression model on them?\n",
    "\n",
    "Here are a few examples of datasets you should not use with linear regression:\n",
    "* Airline ticket sales from 1960-2024\n",
    "* Income across age in the US\n",
    "* The S&P 500\n",
    "\n",
    "Whereas here are a few examples of datasets that could be potential candidates for linear regression modeling:\n",
    "* Ice cream sales across different temperatures\n",
    "* SAT scores across family income"
   ]
  }
 ],
 "metadata": {
  "language_info": {
   "name": "python"
  }
 },
 "nbformat": 4,
 "nbformat_minor": 2
}
