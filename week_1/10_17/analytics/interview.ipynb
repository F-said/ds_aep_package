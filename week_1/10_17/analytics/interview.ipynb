{
 "cells": [
  {
   "cell_type": "markdown",
   "metadata": {},
   "source": [
    "# Assumptions of Linear Regression\n",
    "\n",
    "What are the assumptions underlying linear regression? There are 4 specific assumptions that you make when running a linear regression model. Any violation of this assumption will generate unreliable or misleading predictions."
   ]
  },
  {
   "cell_type": "markdown",
   "metadata": {},
   "source": [
    "1) \n",
    "2) \n",
    "3) \n",
    "4) "
   ]
  }
 ],
 "metadata": {
  "language_info": {
   "name": "python"
  }
 },
 "nbformat": 4,
 "nbformat_minor": 2
}
