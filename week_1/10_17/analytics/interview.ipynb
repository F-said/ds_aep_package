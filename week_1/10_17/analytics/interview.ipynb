{
 "cells": [
  {
   "cell_type": "markdown",
   "metadata": {},
   "source": [
    "# Interview Question - Assumptions of Linear Regression\n",
    "\n",
    "What are the assumptions underlying linear regression? There are 4 specific assumptions that you make when running a linear regression model. Any violation of this assumption will generate unreliable or misleading predictions."
   ]
  },
  {
   "cell_type": "markdown",
   "metadata": {},
   "source": [
    "1) \n",
    "2) \n",
    "3) \n",
    "4) "
   ]
  },
  {
   "cell_type": "markdown",
   "metadata": {},
   "source": [
    "## Helpful Hints\n",
    "\n",
    "If you are stuck on the 4 assumptions of linear regression, think back to the datasets you've applied linear regression to. What were the underlying assumptions we made about these datasets before we ran linear regression on them?\n",
    "\n",
    "Here are a few examples of datasets you should not use "
   ]
  },
  {
   "cell_type": "markdown",
   "metadata": {},
   "source": [
    "# Project Planning\n",
    "\n",
    "Check out the `sprint1.md` file in the `week_1/10_15/` folder to refresh your knowledge on the process of project planning."
   ]
  }
 ],
 "metadata": {
  "language_info": {
   "name": "python"
  }
 },
 "nbformat": 4,
 "nbformat_minor": 2
}
