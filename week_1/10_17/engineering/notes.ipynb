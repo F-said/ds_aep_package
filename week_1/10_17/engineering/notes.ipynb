{
 "cells": [
  {
   "cell_type": "markdown",
   "metadata": {},
   "source": [
    "# Data Engineering Notes\n",
    "\n"
   ]
  },
  {
   "cell_type": "markdown",
   "metadata": {},
   "source": [
    "# Technical Concepts\n",
    "\n"
   ]
  },
  {
   "cell_type": "markdown",
   "metadata": {},
   "source": [
    "## Time Complexity\n",
    "\n",
    "\n",
    "\n",
    "## Resources\n",
    "\n",
    "* "
   ]
  },
  {
   "cell_type": "markdown",
   "metadata": {},
   "source": [
    "## Writing \"Pythonic Code\"\n",
    "\n",
    "\n",
    "\n",
    "## Resources\n",
    "\n",
    "* "
   ]
  },
  {
   "cell_type": "markdown",
   "metadata": {},
   "source": [
    "## Documentation\n",
    "\n",
    "\n",
    "\n",
    "## Resources\n",
    "\n",
    "* "
   ]
  },
  {
   "cell_type": "markdown",
   "metadata": {},
   "source": [
    "## Abstraction\n",
    "\n",
    "\n",
    "\n",
    "## Resources\n",
    "\n",
    "* "
   ]
  },
  {
   "cell_type": "markdown",
   "metadata": {},
   "source": [
    "## Data Hosting\n",
    "\n",
    "\n",
    "\n",
    "## Tools of the Trade\n",
    "\n",
    "\n",
    "\n",
    "## Resources\n",
    "\n",
    "* "
   ]
  },
  {
   "cell_type": "markdown",
   "metadata": {},
   "source": [
    "## Data Pipelining\n",
    "\n",
    "\n",
    "\n",
    "## Tools of the Trade\n",
    "\n",
    "\n",
    "\n",
    "## Resources\n",
    "\n",
    "* \n"
   ]
  },
  {
   "cell_type": "markdown",
   "metadata": {},
   "source": [
    "## Data Modeling\n",
    "\n",
    "\n",
    "\n",
    "## Tools of the Trade\n",
    "\n",
    "\n",
    "\n",
    "## Resources\n",
    "\n",
    "* "
   ]
  },
  {
   "cell_type": "markdown",
   "metadata": {},
   "source": [
    "## Data Connections\n",
    "\n",
    "\n",
    "\n",
    "## Tools of the Trade\n",
    "\n",
    "\n",
    "\n",
    "## Resources\n",
    "\n",
    "* "
   ]
  },
  {
   "cell_type": "markdown",
   "metadata": {},
   "source": [
    "## Testing\n",
    "\n",
    "\n",
    "\n",
    "## Tools of the Trade\n",
    "\n",
    "\n",
    "\n",
    "## Resources\n",
    "\n",
    "* "
   ]
  },
  {
   "cell_type": "markdown",
   "metadata": {},
   "source": [
    "## Machine Learning\n",
    "\n",
    "\n",
    "\n",
    "# Resources\n",
    "\n",
    "* "
   ]
  }
 ],
 "metadata": {
  "language_info": {
   "name": "python"
  }
 },
 "nbformat": 4,
 "nbformat_minor": 2
}
