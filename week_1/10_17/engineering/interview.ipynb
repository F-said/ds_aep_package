{
 "cells": [
  {
   "cell_type": "markdown",
   "metadata": {},
   "source": [
    "# Contains Duplicates\n",
    "\n",
    "Given an integer array nums and an integer k, return true if there are two distinct indices `i` and `j` in the array such that `nums[i] == nums[j]` and `abs(i - j) <= k`.\n",
    "\n",
    "**Example 1:**\n",
    "```\n",
    "Input: nums = [1,2,3,1], k = 3\n",
    "Output: true\n",
    "```\n",
    "\n",
    "**Example 2:**\n",
    "```\n",
    "Input: nums = [1,0,1,1], k = 1\n",
    "Output: true\n",
    "```\n",
    "\n",
    "**Example 3:**\n",
    "```\n",
    "Input: nums = [1,2,3,1,2,3], k = 2\n",
    "Output: false\n",
    "```\n",
    "\n",
    "**Note**: There is an efficient and an inefficient way to solve this problem. If you have a doubly-nested for-loop you've discovered the inefficient method."
   ]
  },
  {
   "cell_type": "code",
   "execution_count": null,
   "metadata": {},
   "outputs": [],
   "source": [
    "def containsNearbyDuplicate(nums, k):\n",
    "    return ..."
   ]
  },
  {
   "cell_type": "markdown",
   "metadata": {},
   "source": [
    "## Testing Block\n",
    "\n",
    "**Note**: Before running the code block below, please be sure that the function you implemented above runs successfully (i.e. a green check-mark appears when running your code)\n",
    "\n",
    "Run the following block of code to test your `containsNearbyDuplicate` function. If all cases evaluate to true, your code is functioning correctly!"
   ]
  },
  {
   "cell_type": "code",
   "execution_count": null,
   "metadata": {},
   "outputs": [],
   "source": [
    "print(containsNearbyDuplicate([1,2,3,1], 3) == True)\n",
    "print(containsNearbyDuplicate([1,0,1,1], 1) == True)\n",
    "print(containsNearbyDuplicate([1,2,3,1,2,3], 2) == False)"
   ]
  },
  {
   "cell_type": "markdown",
   "metadata": {},
   "source": [
    "## Helpful Hints\n",
    "\n",
    "If you are stuck on how to implement a solution without a doubly-nested for-loop, check out the file in the `week_/interview_prep/engineering/` folder path titled `sliding-window.ipynb`."
   ]
  }
 ],
 "metadata": {
  "language_info": {
   "name": "python"
  }
 },
 "nbformat": 4,
 "nbformat_minor": 2
}
