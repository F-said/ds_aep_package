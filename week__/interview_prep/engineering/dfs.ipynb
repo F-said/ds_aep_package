{
 "cells": [
  {
   "attachments": {},
   "cell_type": "markdown",
   "metadata": {},
   "source": [
    "## Tree Abstract Data Type\n",
    "\n",
    "A tree is an object composed of nodes & connections. We start from a root-tree and then generate branches that lead to children. Abstractly, think of this as a family-tree, where the great-grandparents are at the top, the grandparents are a level below, the parents are at the 3rd level, and then finally the bottom-most nodes constitute the children.\n",
    "\n",
    "One type of tree that we will discuss today is a binary tree. This is a tree that strictly has two or less (hence the binary) children for every parent node.\n",
    "\n",
    "https://www.tutorialspoint.com/python_data_structure/python_binary_tree.htm"
   ]
  },
  {
   "cell_type": "code",
   "execution_count": null,
   "metadata": {},
   "outputs": [],
   "source": [
    "class TreeNode:\n",
    "  def __init__(self, val, left=None, right=None):\n",
    "    self.val = val\n",
    "    self.left = left\n",
    "    self.right = right\n",
    "\n",
    "root = TreeNode(12)\n",
    "root.left = TreeNode(7)\n",
    "root.right = TreeNode(1)\n",
    "root.left.left = TreeNode(9)\n",
    "root.right.left = TreeNode(10)\n",
    "root.right.right = TreeNode(5)"
   ]
  },
  {
   "attachments": {},
   "cell_type": "markdown",
   "metadata": {},
   "source": [
    "## Binary Tree Path Sum Example\n",
    "\n",
    "Given a binary tree and a number ‘S’, find if the tree has a path from root-to-leaf such that the sum of all the node values of that path equals ‘S’.\n",
    "\n",
    "## Solution\n",
    "As we are trying to search for a root-to-leaf path, we can use the Depth First Search (DFS) technique to solve this problem.\n",
    "\n",
    "Before we further explore the solution, let's talk more about searching algorithms."
   ]
  },
  {
   "attachments": {},
   "cell_type": "markdown",
   "metadata": {},
   "source": [
    "## Depth First Search (DFS)\n",
    "\n",
    "In a nutshell, we use these two algorithms when traversing a [graph](https://en.wikipedia.org/wiki/Graph_(abstract_data_type)) (a general version of a tree). This is a structure of data that entails `nodes` (focal pieces of data) and `edges` (connections between those pieces of data). This is a fascinating data-structure simply for the fact that we can represent so many real-life ideas & structures using a graph.\n",
    " * cities & airline connections between cities\n",
    " * family trees\n",
    " * language etymology\n",
    " * social networks\n",
    "\n",
    "Basically, if you can think of a way to connect two pieces of information or data, you have a graph. Find out more [here](https://isaaccomputerscience.org/concepts/dsa_datastruct_graph?examBoard=all&stage=all).\n",
    "\n",
    "Now, to traverse such a structure, we must utilize a patterned approach where we either prioritize `depth` or `breadth`. In DFS, we start at a singular node and then prioritize traveling as `deep` into the graph as we can before we hit a dead-end (or a goal node, in which case we simply stop the search). If we hit a dead-end, we then go back to the last-non dead-end node, and search its subsequent neighbors.\n",
    "\n",
    "Once we see a [visual of this algorithm](https://www.youtube.com/watch?v=iaBEKo5sM7w), the idea is quite intuitive.\n",
    "\n",
    "A fundemental part of this algorithm is the [stack](https://www.geeksforgeeks.org/stack-data-structure/) data-structure, which is a First-In Last-Out (FILO) list of data. I encourage you to explore the posted links & explore the video to get an understanding of how this algorithm works.\n",
    "\n",
    "**DFS Pseudocode**\n",
    "\n",
    "1. Create an empty stack\n",
    "2. Create an empty set called seen\n",
    "3. Push first position to stack\n",
    "4. Push first position to seen\n",
    "5. While stack is not empty:\n",
    "    1. Pop stack and get last added position\n",
    "    2. Search through every possible neighbor of last seen position (North, South, East, West)\n",
    "    3. If neighbor is land and not seen, push to seen & stack"
   ]
  },
  {
   "cell_type": "code",
   "execution_count": null,
   "metadata": {},
   "outputs": [],
   "source": [
    "def dfs(root):\n",
    "    stack = []\n",
    "    seen = set()\n",
    "    stack.append(root)\n",
    "    seen.add(root)\n",
    "\n",
    "    while len(stack) != 0:\n",
    "        node = stack.pop()\n",
    "        neighbors = get_neighbors(node)\n",
    "        for n in neighbors:\n",
    "            if n not in seen:\n",
    "                stack.append(n)\n",
    "                seen.add(n)"
   ]
  },
  {
   "attachments": {},
   "cell_type": "markdown",
   "metadata": {},
   "source": [
    "To recursively traverse a binary tree in a DFS fashion, we can start from the root and at every step, make two recursive calls one for the left and one for the right child.\n",
    "\n",
    "Here are the steps for our Binary Tree Path Sum problem:\n",
    "\n",
    "1. Start DFS with the root of the tree.\n",
    "\n",
    "2. If the current node is not a leaf node, do two things:\n",
    "    1. Subtract the value of the current node from the given number to get a new sum => S = S - node.v  alue\n",
    "    2. Make two recursive calls for both the children of the current node with the new number calculated in the previous step.\n",
    "4. At every step, see if the current node being visited is a leaf node and if its value is equal to the given number ‘S’. If both these conditions are true, we have found the required root-to-leaf path, therefore return true.\n",
    "\n",
    "\n",
    "5. If the current node is a leaf but its value is not equal to the given number ‘S’, return false."
   ]
  },
  {
   "cell_type": "code",
   "execution_count": 6,
   "metadata": {},
   "outputs": [
    {
     "name": "stdout",
     "output_type": "stream",
     "text": [
      "Path containing total exists in left: False\n"
     ]
    }
   ],
   "source": [
    "class TreeNode:\n",
    "  def __init__(self, val, left=None, right=None):\n",
    "    self.val = val\n",
    "    self.left = left\n",
    "    self.right = right\n",
    "\n",
    "root = TreeNode(12)\n",
    "root.left = TreeNode(7)\n",
    "root.right = TreeNode(1)\n",
    "root.left.left = TreeNode(9)\n",
    "root.right.left = TreeNode(10)\n",
    "root.right.right = TreeNode(5)\n",
    "\n",
    "def path_exists(node, total):\n",
    "    if node is None:\n",
    "        return False\n",
    "\n",
    "    # if the current node is a leaf and its value is equal to the sum, we've found a path\n",
    "    if node.val == total and node.left is None and node.right is None:\n",
    "        return True\n",
    "\n",
    "    # recursively call to traverse the left and right sub-tree\n",
    "    # return true if any of the two recursive call return true\n",
    "    return path_exists(node.left, total - node.val) or path_exists(node.right, total - node.val)\n",
    "\n",
    "S = 16\n",
    "path_exists = path_exists(root, S)\n",
    "\n",
    "print(\"Path containing total exists in left:\", path_exists)"
   ]
  },
  {
   "attachments": {},
   "cell_type": "markdown",
   "metadata": {},
   "source": [
    "## More Patterns More Problems\n",
    "\n",
    "Take a look at the following list of questions to explore more:\n",
    "\n",
    "* [One Path for Sum](https://leetcode.com/problems/path-sum/)\n",
    "* [All Paths for Sum](https://leetcode.com/problems/path-sum-ii/)"
   ]
  }
 ],
 "metadata": {
  "kernelspec": {
   "display_name": "Python 3",
   "language": "python",
   "name": "python3"
  },
  "language_info": {
   "codemirror_mode": {
    "name": "ipython",
    "version": 3
   },
   "file_extension": ".py",
   "mimetype": "text/x-python",
   "name": "python",
   "nbconvert_exporter": "python",
   "pygments_lexer": "ipython3",
   "version": "3.10.7"
  },
  "orig_nbformat": 4
 },
 "nbformat": 4,
 "nbformat_minor": 2
}
