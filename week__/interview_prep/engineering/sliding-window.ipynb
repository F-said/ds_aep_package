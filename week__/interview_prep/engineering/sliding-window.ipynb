{
 "cells": [
  {
   "attachments": {},
   "cell_type": "markdown",
   "metadata": {},
   "source": [
    "## Sliding Window Pattern\n",
    "\n",
    "**Use-Case** : Calculate on sub-arrays from an array\n",
    "\n",
    "**Example Problem** : Calculate the mean of each sub-array of k contiguous elements in the given array.\n",
    "\n",
    "**Brute Force Solution** : Calculate the mean by looping through the list and calculate the mean k elements at a time.\n",
    "\n",
    "**Algorithm**\n",
    "``` \n",
    "    Create a new list\n",
    "    Loop i from 0 to len(lst) - (N-1)\n",
    "        Loop from i to i + N \n",
    "            Calc the mean\n",
    "        Append to new list\n",
    "```"
   ]
  },
  {
   "cell_type": "code",
   "execution_count": 2,
   "metadata": {},
   "outputs": [],
   "source": [
    "# time-complexity:\n",
    "\n",
    "# space-complexity: \n",
    "\n",
    "def brute_force(lst, k):\n",
    "    new_lst = []\n",
    "    for i in range(0, len(lst) - (k-1)):\n",
    "        total = 0\n",
    "        for j in range(i, i + k):\n",
    "            total += lst[j]\n",
    "        new_lst.append(total/k)\n",
    "\n",
    "    \n",
    "    return new_lst"
   ]
  },
  {
   "cell_type": "code",
   "execution_count": 3,
   "metadata": {},
   "outputs": [
    {
     "name": "stdout",
     "output_type": "stream",
     "text": [
      "[2.0, 3.6666666666666665, 2.3333333333333335, 3.0, 1.3333333333333333, 4.333333333333333, 3.6666666666666665]\n"
     ]
    }
   ],
   "source": [
    "print(brute_force([1, 3, 2, 6, -1, 4, 1, 8, 2], 3))"
   ]
  },
  {
   "cell_type": "code",
   "execution_count": 4,
   "metadata": {},
   "outputs": [
    {
     "name": "stdout",
     "output_type": "stream",
     "text": [
      "0.34764790534973145\n"
     ]
    }
   ],
   "source": [
    "# let's time this\n",
    "import time\n",
    "\n",
    "start = time.time()\n",
    "for i in range(100_000):\n",
    "    brute_force([1, 3, 2, 6, -1, 4, 1, 8, 2], 3)\n",
    "end = time.time()\n",
    "\n",
    "print(end - start)"
   ]
  },
  {
   "cell_type": "code",
   "execution_count": 7,
   "metadata": {},
   "outputs": [
    {
     "data": {
      "text/plain": [
       "[2.0,\n",
       " 3.6666666666666665,\n",
       " 2.3333333333333335,\n",
       " 3.0,\n",
       " 1.3333333333333333,\n",
       " 4.333333333333333,\n",
       " 3.6666666666666665]"
      ]
     },
     "execution_count": 7,
     "metadata": {},
     "output_type": "execute_result"
    }
   ],
   "source": [
    "from cProfile import Profile\n",
    "from pstats import Stats\n",
    "\n",
    "def test1():\n",
    "    return brute_force([1, 3, 2, 6, -1, 4, 1, 8, 2], 3)\n",
    "\n",
    "prof = Profile()\n",
    "prof.runcall(test1)\n",
    "stats = Stats(prof)"
   ]
  },
  {
   "attachments": {},
   "cell_type": "markdown",
   "metadata": {},
   "source": [
    "## Sliding Window Pattern\n",
    "\n",
    "**Opportunities for Brute Force**: We are looping over the same numbers multiple times:\n",
    "    \n",
    "* We are not taking advantage of the fact that the mean of the first number already contains almost all the numbers needed for the second mean.\n",
    "\n",
    "* Instead of making an inner for-loop, let’s make a window that moves one element at a time to get a time complexity of O(N)\n",
    "\n",
    "**Better Solution** Reuse the previous sum calculated from previous iterations, just subtract the element at the beginning of the window, and add a new element to the end of the window\n",
    "\n",
    "**Algorithm**\n",
    "```\n",
    "Create a new list\n",
    "sum = 0, front = 0\n",
    "for i index in array\n",
    "    Add element at i to sum\n",
    "    if i >= k - 1: \n",
    "        append sum/k to new list\n",
    "        subtract element at front (tracked by `front`)\n",
    "        increment front\n",
    "```"
   ]
  },
  {
   "cell_type": "code",
   "execution_count": 9,
   "metadata": {},
   "outputs": [],
   "source": [
    "# time-complexity:\n",
    "\n",
    "# space-complexity: \n",
    "\n",
    "def sliding_window(lst, k):\n",
    "    new_lst = []\n",
    "    total, front = 0, 0\n",
    "    for end in range(len(lst)):\n",
    "        total += lst[end]\n",
    "        if end >= k - 1:\n",
    "            new_lst.append(total/k)\n",
    "            total -= lst[front]\n",
    "            front += 1\n",
    "    \n",
    "    return new_lst"
   ]
  },
  {
   "cell_type": "code",
   "execution_count": 4,
   "metadata": {},
   "outputs": [
    {
     "name": "stdout",
     "output_type": "stream",
     "text": [
      "0.2699615955352783\n"
     ]
    }
   ],
   "source": [
    "# let's time this\n",
    "import time\n",
    "\n",
    "start = time.time()\n",
    "for i in range(100_000):\n",
    "    sliding_window([1, 3, 2, 6, -1, 4, 1, 8, 2], 3)\n",
    "end = time.time()\n",
    "\n",
    "print(end - start)"
   ]
  },
  {
   "cell_type": "code",
   "execution_count": 10,
   "metadata": {},
   "outputs": [
    {
     "data": {
      "text/plain": [
       "[2.0,\n",
       " 3.6666666666666665,\n",
       " 2.3333333333333335,\n",
       " 3.0,\n",
       " 1.3333333333333333,\n",
       " 4.333333333333333,\n",
       " 3.6666666666666665]"
      ]
     },
     "execution_count": 10,
     "metadata": {},
     "output_type": "execute_result"
    }
   ],
   "source": [
    "from cProfile import Profile\n",
    "\n",
    "def test2():\n",
    "    return sliding_window([1, 3, 2, 6, -1, 4, 1, 8, 2], 3)\n",
    "\n",
    "prof = Profile()\n",
    "prof.runcall(test2)"
   ]
  },
  {
   "attachments": {},
   "cell_type": "markdown",
   "metadata": {},
   "source": [
    "Think of this movement as an inch-worm. Whenever an inch-worm moves forward it does not retread its steps. Instead whenever it stretches to its maximum length, it \"increments\" its front (tail) by bringing it forward and curling its body. Next, it stretches its body so that the end (head) moves to the next available space.\n",
    "\n",
    "https://user-images.githubusercontent.com/26397102/218319832-a64f2ee2-8afe-4c59-924d-472cb3973a57.gif"
   ]
  },
  {
   "attachments": {},
   "cell_type": "markdown",
   "metadata": {},
   "source": [
    "Unlike the inefficient caterpillar: \n",
    "\n",
    "https://user-images.githubusercontent.com/26397102/218158799-0c5bf283-e4cf-4fa9-9502-41a829d0f804.gif"
   ]
  },
  {
   "cell_type": "code",
   "execution_count": 6,
   "metadata": {},
   "outputs": [],
   "source": [
    "def countGoodSubstrings(s):\n",
    "    good_c, start, end = 0, 0, 0\n",
    "    k = 3\n",
    "\n",
    "    lst = []\n",
    "    while end < len(s):\n",
    "        val = s[end]\n",
    "        lst.append(val)\n",
    "        if len(lst) >= k:\n",
    "            if len(set(lst)) == k:\n",
    "                good_c += 1\n",
    "            lst.pop(0)\n",
    "        end += 1\n",
    "    return good_c"
   ]
  }
 ],
 "metadata": {
  "kernelspec": {
   "display_name": "Python 3",
   "language": "python",
   "name": "python3"
  },
  "language_info": {
   "codemirror_mode": {
    "name": "ipython",
    "version": 3
   },
   "file_extension": ".py",
   "mimetype": "text/x-python",
   "name": "python",
   "nbconvert_exporter": "python",
   "pygments_lexer": "ipython3",
   "version": "3.10.7"
  },
  "orig_nbformat": 4,
  "vscode": {
   "interpreter": {
    "hash": "369f2c481f4da34e4445cda3fffd2e751bd1c4d706f27375911949ba6bb62e1c"
   }
  }
 },
 "nbformat": 4,
 "nbformat_minor": 2
}
