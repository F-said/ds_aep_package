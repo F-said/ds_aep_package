{
 "cells": [
  {
   "attachments": {},
   "cell_type": "markdown",
   "metadata": {},
   "source": [
    "## Two Pointer\n",
    "\n",
    "**Use-Case** : Find a set of elements that fulfill certain constraints, or re-sort an already sorted list. We often use this pattern when our initial (brute-force) solution is in polynomial time, and we want to reduce it to a better polynomial time algo or to linear time:\n",
    "* Three elements that sum to 0\n",
    "* Next non-duplicate number\n",
    "* Dutch Flag Problem\n",
    "\n",
    "**Example problem** : Find all number pairs in an array that sum to a target. We will use this problem to generate a pattern which we will then extrapolate to similar problems. \n",
    "\n",
    "**Brute Force Solution** : Loop through each element. For every element, loop through every other element to find all possible pairs that sum to our target:"
   ]
  },
  {
   "cell_type": "code",
   "execution_count": 8,
   "metadata": {},
   "outputs": [],
   "source": [
    "def brute_pairs(lst, target):\n",
    "    for i in range(len(lst)):\n",
    "        for j in range(i, len(lst)):\n",
    "            if lst[i] + lst[j] == target:\n",
    "                return [lst[i], lst[j]]\n",
    "    return -1, 1"
   ]
  },
  {
   "cell_type": "code",
   "execution_count": 2,
   "metadata": {},
   "outputs": [
    {
     "name": "stdout",
     "output_type": "stream",
     "text": [
      "[[1, 2]]\n"
     ]
    }
   ],
   "source": [
    "print(brute_pairs([4, 3, 6, 1, 2], 3))"
   ]
  },
  {
   "attachments": {},
   "cell_type": "markdown",
   "metadata": {},
   "source": [
    "Consider what the runtime efficiency is of this algorithm. What does that nested for-loop do for how well our algorithm scales? \n",
    "\n",
    "Since one for-loop is `O(N)`, and we have a for-loop inside of another for-loop, our runtime efficiency ends up being `O(N^2)`,\n",
    "\n",
    "Space efficiency will remain constaint (`O(N)`) throughout both algorithms since we must always return a new list."
   ]
  },
  {
   "attachments": {},
   "cell_type": "markdown",
   "metadata": {},
   "source": [
    "**Better Solution**\n",
    "\n",
    "1. Sort list (If not already sorted)\n",
    "2. Set a pointer in the front of the list \n",
    "3. Set a pointer at the end of the list\n",
    "4. Check if sum of pointers is equal to target.\n",
    "    1. If result is smaller than target, move end to the left\n",
    "    2. If result is larger than target, move start to the right\n",
    "    3. If start and end are equal, `break`"
   ]
  },
  {
   "cell_type": "code",
   "execution_count": 7,
   "metadata": {},
   "outputs": [],
   "source": [
    "def two_pointers(lst, target):\n",
    "    start = 0\n",
    "    end = len(lst) - 1\n",
    "\n",
    "    lst.sort()\n",
    "\n",
    "    while end > start:\n",
    "        result = lst[start] + lst[end]\n",
    "        if result == target:\n",
    "            return [lst[start], lst[end]]\n",
    "        elif result < target:\n",
    "            start += 1\n",
    "        else:\n",
    "            end -= 1\n",
    "    return -1, 1"
   ]
  },
  {
   "attachments": {},
   "cell_type": "markdown",
   "metadata": {},
   "source": [
    "Consider what the runtime efficiency is of this algorithm. What is the [fastest](https://www.bigocheatsheet.com/) sort algorithm we have available? \n",
    "\n",
    "Looking at the cheat-sheet, the fastest sort we have is `O(N*log(N))`. However, the `while` loop itself is only `O(N)`. This is because we only loop through `N` elements in the worst case scenario.\n",
    "\n",
    "So, in conclusion we have an algorithm that is now `O(N*log(N) + N)`. We only keep the *worst* runtime, since that is the factor that truly scales our algorithm. That is, as we add more and more elements to our list, the `N` in our equation `N*log(N) + N` begins to matter less and less.\n",
    "\n",
    "We can view this mathematically as well!\n",
    "\n",
    "| N       | N*log(N) | N*log(N) + N |\n",
    "| ------- | -------- | ------------ |\n",
    "| 10      | 33       | 43           |\n",
    "| 100     | 664      | 764          |\n",
    "| 1000    | 9965     | 10975         |\n",
    "\n",
    "As observed above, we can see that the `N` factor really does not describe how large the number of steps are getting. When `N = 100`, we get an `N*log(N)` of 664. Adding `N` to this number will not give us a drastically larger or smaller number. The same holds true as we increase `N`.\n",
    "\n",
    "In conclusion, we state that this algo is `O(N*log(N))`. However, if we were given an already sorted list, then we will not need to sort and it will be `O(N)`.\n",
    "\n",
    "Space efficiency will remain the same (`O(N)`) since we are always creating a new list. "
   ]
  },
  {
   "attachments": {},
   "cell_type": "markdown",
   "metadata": {},
   "source": [
    "## Differences in Efficiency\n",
    "\n",
    "If we look back to our cheat-sheet, we'll see that `O(N*log(N))` and `O(N^2)` are only one *step* removed from each other in terms of efficiency. Why do we care about this metric? \n",
    "\n",
    "Well, let's see how these algorithms impact how long it takes to get to a solution. In the world of computers, it sometimes doesn't matter if you can get a solution, but if you can get to a solution *first*. This is often reflected in other domains of life:\n",
    "* NASCAR\n",
    "* Research\n",
    "* Finance\n",
    "\n",
    "Since algorithms are super-fast these days, we can only find true differences in efficiency when scaling up our algorithms. For example, let's say we run each function 10k times. Which one will have the better scaled efficiency?"
   ]
  },
  {
   "cell_type": "code",
   "execution_count": 11,
   "metadata": {},
   "outputs": [
    {
     "name": "stdout",
     "output_type": "stream",
     "text": [
      "Time for brute 0.02764439582824707\n",
      "Time for two-pointers 0.012653350830078125\n"
     ]
    }
   ],
   "source": [
    "import time \n",
    "\n",
    "start = time.time()\n",
    "for i in range(10000):\n",
    "    brute_pairs([4, 3, 6, 1, 2], 3)\n",
    "end = time.time()\n",
    "print(\"Time for brute\", end - start)\n",
    "\n",
    "start = time.time()\n",
    "for j in range(10000):\n",
    "    two_pointers([4, 3, 6, 1, 2], 3)\n",
    "end = time.time()\n",
    "print(\"Time for two-pointers\", end - start)"
   ]
  },
  {
   "attachments": {},
   "cell_type": "markdown",
   "metadata": {},
   "source": [
    "## More Patterns, More Problems\n",
    "\n",
    "Problems that can be solved using two-pointer pattern.\n",
    "\n",
    "* [Squares of Sorted Array](https://leetcode.com/problems/squares-of-a-sorted-array)\n",
    "* [Distance to Character](https://leetcode.com/problems/shortest-distance-to-a-character/)\n",
    "* [Move Zeroes](https://leetcode.com/problems/move-zeroes/)\n",
    "\n",
    "Comprehensive list here: https://leetcode.com/tag/two-pointers/"
   ]
  }
 ],
 "metadata": {
  "kernelspec": {
   "display_name": "Python 3",
   "language": "python",
   "name": "python3"
  },
  "language_info": {
   "codemirror_mode": {
    "name": "ipython",
    "version": 3
   },
   "file_extension": ".py",
   "mimetype": "text/x-python",
   "name": "python",
   "nbconvert_exporter": "python",
   "pygments_lexer": "ipython3",
   "version": "3.10.7"
  },
  "orig_nbformat": 4,
  "vscode": {
   "interpreter": {
    "hash": "369f2c481f4da34e4445cda3fffd2e751bd1c4d706f27375911949ba6bb62e1c"
   }
  }
 },
 "nbformat": 4,
 "nbformat_minor": 2
}
