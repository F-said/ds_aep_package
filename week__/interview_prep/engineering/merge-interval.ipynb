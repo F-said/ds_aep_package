{
 "cells": [
  {
   "attachments": {},
   "cell_type": "markdown",
   "metadata": {},
   "source": [
    "## Merge Intervals\n",
    "\n",
    "**Use-Case** : How do we deal with overlapping intervals in coding interview questions?\n",
    "\n",
    "**Example problem** : Given this array of arrays, merge all overlapping intervals\n",
    "\n",
    "```\n",
    "[[1, 4], [2, 5], [7, 9]]\n",
    "```\n",
    "\n",
    "The only overlapping intervals in this example is `[1,4]` and `[2,5]`.\n",
    "\n",
    "This results in the newly formed list:\n",
    "```\n",
    "[[1, 5], [7, 9]]\n",
    "```\n",
    "\n",
    "Let's consider a few more example:\n",
    "\n",
    "### Example 2\n",
    "```\n",
    "[[1, 4], [2, 6], [3, 5]]\n",
    "```\n",
    "\n",
    "What does this become? Take a second to figure this out before observing the answer.\n",
    "\n",
    ">! [[1, 6]]\n",
    "\n",
    "### Example 3\n",
    "```\n",
    "[[2, 4], [5, 9], [6, 7]]\n",
    "```\n",
    "\n",
    "What does this become? Take a second to figure this out before observing the answer.\n",
    "\n",
    ">! [[2, 4], [5, 9]]\n",
    "\n",
    "As opposed to starting off on a brute-force algorithm, we will simply consider what pattern we must take in order to *solve* this problem."
   ]
  },
  {
   "attachments": {},
   "cell_type": "markdown",
   "metadata": {},
   "source": [
    "Consider all possible overlaps in this list of intervals. Assume that we consider two intervals at a time, where `a` is the left-interval and `b` is the right:\n",
    "* a & b do not overlap, b ends after a\n",
    "* a & b overlap, b ends after a\n",
    "* a & b overlap, a encompasses b\n",
    "* a & b overlap, a ends after b\n",
    "* a & b overlap, b encompasses a\n",
    "* a & b overlap, a ends after b\n",
    "\n",
    "In the above example (`[[1, 4], [2, 5], [7, 9]]`), we have the following cases:\n",
    "\n",
    "* `[1, 4], [2, 5]`, a & b overlap, b ends after a.\n",
    "* `[2, 5], [7, 9]`, a & b do not overlap, b ends after a"
   ]
  },
  {
   "attachments": {},
   "cell_type": "markdown",
   "metadata": {},
   "source": [
    "By assuming (or creating) a sorted list of intervals, we can get rid of the majority of these cases and only consider the following:\n",
    "* a & b overlap, b ends after a\n",
    "* a & b overlap, a encompasses b\n",
    "* a & b do not overlap, b ends after a\n",
    "\n",
    "While the latter half of all these cases is well-defined, let's consider what it means for an interval to \"overlap\".\n",
    "\n",
    "Take `[1, 4], [2, 5]` as an example. What **specific* indices indicates an overlap in this case? \n",
    "\n",
    "Further explained, `[1, 4]` indicates the integers `[1,2,3,4]`, whereas `[2, 5]` gives us `[2,3,4,5]`. It's obvious that these two lists overlap, but what feature of the **interval** indicates an overlap?\n",
    "\n",
    "Well, it appears that when the number at the last index of the `a` interval is greater than the number at the beginning index of the `b` interval, we have an overlap.\n",
    "\n",
    "Pythonically, this can be expressed as `a[1] > b[1]`. "
   ]
  },
  {
   "attachments": {},
   "cell_type": "markdown",
   "metadata": {},
   "source": [
    "Now that we have formally defined what kind of overlaps are possible, and what indicates an overlap, we can form a pattern where we take intervals one-by-one and analyze patterns to construct larger & larger intervals.\n",
    "\n",
    "This leads us to the pattern:\n",
    "\n",
    "**Merge Interval Pattern**\n",
    "\n",
    "1. Sort list (If not already sorted) by first index in all intervals\n",
    "2. Set first interval to be `a`\n",
    "3. While we have intervals to look at:\n",
    "    1. next interval is `b`\n",
    "    2. if `a` overlaps with `b`\n",
    "        1. Create new interval where start is `a[0]`\n",
    "        2. end is `max(a[1], b[1])`\n",
    "    3. if no overlap, append `a` to new-lst\n",
    "    4. assign `a` to be next interval, or newly constructed interval\n",
    "\n",
    "The next batch of code expresses pseudocode of this pattern. Attempt to implement this, and test it at leetcode before looking at the syntax itself: https://leetcode.com/problems/merge-intervals/ "
   ]
  },
  {
   "cell_type": "code",
   "execution_count": 7,
   "metadata": {},
   "outputs": [],
   "source": [
    "def merge_interval(lst, intervals):\n",
    "    # Sort the list by the first element in all intervals\n",
    "    intervals.sort(key = lambda x: x[0])\n",
    "\n",
    "    # ‘a’ is first interval\n",
    "    a = intervals[0]\n",
    "\n",
    "    new_intervals = []\n",
    "    # While we can take intervals from list\n",
    "        # If ‘a’ overlaps ‘b’\n",
    "        # Create a new interval such that \n",
    "            # Start is a.start\n",
    "            # End is max(a.end, b.end)\n",
    "        # else: append a to list\n",
    "        # assign ‘a’ to be newly transformed interval, or next interval\n",
    "    return new_intervals\n",
    "    "
   ]
  },
  {
   "attachments": {},
   "cell_type": "markdown",
   "metadata": {},
   "source": [
    "Consider what the runtime efficiency is of this algorithm. What is the [fastest](https://www.bigocheatsheet.com/) sort algorithm we have available? \n",
    "\n",
    "Looking at the cheat-sheet, the fastest sort we have is `O(N*log(N))`. However, the `while` loop itself is only `O(N)`. This is because we only loop through `N` elements in the worst case scenario.\n",
    "\n",
    "So, in conclusion we have an algorithm that is now `O(N*log(N) + N)`. We only keep the *worst* runtime, since that is the factor that truly scales our algorithm. That is, as we add more and more elements to our list, the `N` in our equation `N*log(N) + N` begins to matter less and less.\n",
    "\n",
    "We can view this mathematically as well!\n",
    "\n",
    "| N       | N*log(N) | N*log(N) + N |\n",
    "| ------- | -------- | ------------ |\n",
    "| 10      | 33       | 43           |\n",
    "| 100     | 664      | 764          |\n",
    "| 1000    | 9965     | 10975        |\n",
    "\n",
    "As observed above, we can see that the `N` factor really does not describe how large the number of steps are getting. When `N = 100`, we get an `N*log(N)` of 664. Adding `N` to this number will not give us a drastically larger or smaller number. The same holds true as we increase `N`.\n",
    "\n",
    "In conclusion, we state that this algo is `O(N*log(N))`. However, if we were given an already sorted list, then we will not need to sort and it will be `O(N)`.\n",
    "\n",
    "Space efficiency will remain the same (`O(N)`) since we are always creating a new list. \n",
    "\n",
    "Below describes the solution to the interval problem:"
   ]
  },
  {
   "cell_type": "code",
   "execution_count": null,
   "metadata": {},
   "outputs": [],
   "source": [
    "def merge(intervals):\n",
    "    intervals.sort(key = lambda x: x[0])\n",
    "    a = intervals[0]\n",
    "    new_intervals = []\n",
    "\n",
    "    i = 1\n",
    "    while i < len(intervals):\n",
    "        b = intervals[i]\n",
    "        if b[0] <= a[1]:\n",
    "            start = a[0]\n",
    "            end = max(a[1], b[1])\n",
    "            new_int = [start, end]\n",
    "            a = new_int \n",
    "        else:\n",
    "            new_intervals.append(a)\n",
    "            a = b\n",
    "        i += 1\n",
    "\n",
    "    new_intervals.append(a)\n",
    "    return new_intervals "
   ]
  },
  {
   "attachments": {},
   "cell_type": "markdown",
   "metadata": {},
   "source": [
    "## More Patterns, More Problems\n",
    "\n",
    "Problems that can be solved using merge-interval pattern.\n",
    "\n",
    "* [Insert Interval](https://leetcode.com/problems/insert-interval/)\n",
    "* [Intervals Intersection](https://leetcode.com/problems/interval-list-intersections/)"
   ]
  }
 ],
 "metadata": {
  "kernelspec": {
   "display_name": "Python 3",
   "language": "python",
   "name": "python3"
  },
  "language_info": {
   "codemirror_mode": {
    "name": "ipython",
    "version": 3
   },
   "file_extension": ".py",
   "mimetype": "text/x-python",
   "name": "python",
   "nbconvert_exporter": "python",
   "pygments_lexer": "ipython3",
   "version": "3.10.7"
  },
  "orig_nbformat": 4,
  "vscode": {
   "interpreter": {
    "hash": "369f2c481f4da34e4445cda3fffd2e751bd1c4d706f27375911949ba6bb62e1c"
   }
  }
 },
 "nbformat": 4,
 "nbformat_minor": 2
}
