{
 "cells": [
  {
   "attachments": {},
   "cell_type": "markdown",
   "metadata": {},
   "source": [
    "## Heap\n",
    "\n",
    "Before we get into the two-heap pattern, let's go over exactly what a \"heap\" data-type is.\n",
    "\n",
    "A heap is a binary tree that is guaranteed to be [complete](https://miro.medium.com/v2/resize:fit:1400/1*CMGFtehu01ZEBgzHG71sMg.png) (nodes are filled in from left to right, no hanging right-child nodes!)\n",
    "\n",
    "We can further classify heaps into two categories\n",
    "\n",
    "**Max-Heaps**\n",
    "* Parent is always greater than children\n",
    "* Root is the greatest node\n",
    "\n",
    "**Min-Heaps**\n",
    "* Parent is always smaller than children\n",
    "* Root is the smallest node\n",
    "\n",
    "Heaps always come with the following operations. In classic software engineering training, we would have to figure out how we could create an object that implements these specfications. However in this case, we will just rely on the prebuilt object from Python.\n",
    "\n",
    "* Heapify: Create a heap data structure from a binary tree (expressed as a list)\n",
    "* Insertion: Insert a value in the proper order of a heap\n",
    "* Deletion: Delete a value from a heap, and properly rearrange the tree\n",
    "* Peek: Look at the max or min element of a heap\n",
    "* Pop: Extract the max or min element from the heap\n",
    "\n",
    "To find out what's going on \"under the hood\" of these algoritms, take a look at the following [link](https://www.programiz.com/dsa/heap-data-structure)."
   ]
  },
  {
   "cell_type": "code",
   "execution_count": 9,
   "metadata": {},
   "outputs": [
    {
     "name": "stdout",
     "output_type": "stream",
     "text": [
      "Min Heap is [1, 4, 2, 5, 9, 7, 8]\n",
      "Max Heap is [9, 5, 8, 1, 4, 2, 7]\n",
      "Popping min-heap 1\n",
      "Popping max-heap 9\n"
     ]
    }
   ],
   "source": [
    "import heapq\n",
    "\n",
    "# tree expressed as list\n",
    "mintree = [9, 5, 7, 1, 4, 2, 8]\n",
    "maxtree = [9, 5, 7, 1, 4, 2, 8]\n",
    "\n",
    "# min-heap\n",
    "heapq.heapify(mintree) \n",
    "\n",
    "# max-heap\n",
    "heapq._heapify_max(maxtree) \n",
    "\n",
    "print(f\"Min Heap is {mintree}\")\n",
    "print(f\"Max Heap is {maxtree}\")\n",
    "\n",
    "# pop the min-heap\n",
    "print(f\"Popping min-heap {heapq.heappop(mintree)}\")\n",
    "\n",
    "# pop the max-heap\n",
    "print(f\"Popping max-heap {heapq.heappop(maxtree)}\")"
   ]
  },
  {
   "attachments": {},
   "cell_type": "markdown",
   "metadata": {},
   "source": [
    "## Median of Data Stream\n",
    "\n",
    "Now that we know what a heap data-struct is, let's consider its' use-case in the following context:\n",
    "\n",
    "The median is the middle value in an ordered integer list. If the size of the list is even, there is no middle value, and the median is the mean of the two middle values.\n",
    "\n",
    "Implement the MedianFinder class:\n",
    "\n",
    "* MedianFinder(): initializes the MedianFinder object.\n",
    "* void addNum(int num): adds the integer num from the data stream to the data structure.\n",
    "* double findMedian(): returns the median of all elements so far. Answers within 10-5 of the actual answer will be accepted.\n",
    "\n",
    "This class will be ingesting numbers from a number-stream. That is, it will be responsible for calculating intermediate values.\n",
    "\n",
    "**Example 1**\n",
    "```\n",
    "Input\n",
    "[\"MedianFinder\", \"addNum\", \"addNum\", \"findMedian\", \"addNum\", \"findMedian\"]\n",
    "[[], [1], [2], [], [3], []]\n",
    "Output\n",
    "[null, null, null, 1.5, null, 2.0]\n",
    "\n",
    "Explanation\n",
    "MedianFinder medianFinder = new MedianFinder();\n",
    "medianFinder.addNum(1);    // arr = [1]\n",
    "medianFinder.addNum(2);    // arr = [1, 2]\n",
    "medianFinder.findMedian(); // return 1.5 (i.e., (1 + 2) / 2)\n",
    "medianFinder.addNum(3);    // arr[1, 2, 3]\n",
    "medianFinder.findMedian(); // return 2.0\n",
    "```"
   ]
  },
  {
   "attachments": {},
   "cell_type": "markdown",
   "metadata": {},
   "source": [
    "While we could implement a brute-force solution (a list that we continuously find the median of), there is a faster solution.\n",
    "\n",
    "Assume `x` is the median of a list. This means that half of the numbers in the list will be smaller than `x` and half will be greater than `x`. \n",
    "\n",
    "This points us to an implementation where we can have a method that stores new values into two running lists.\n",
    "\n",
    "One list will store all the smaller numbers and the other list will store the larger numbers. \n",
    "\n",
    "The median of all our seen numbers will either be the largest number in the smaller list or the smallest number in the larger list. If the total number of elements is even, the median will be the average of the max of the smaller list & the min of the larger list.\n",
    "\n",
    "This is where a heap comes into play:=,"
   ]
  },
  {
   "attachments": {},
   "cell_type": "markdown",
   "metadata": {},
   "source": [
    "## Two-Heap Pattern\n",
    "\n",
    "**findMedian**\n",
    "1. If even number of elements:\n",
    "    1. Calculate average of max of the smaller list & the min of the larger list\n",
    "2. If odd number of elements:\n",
    "    1. If "
   ]
  },
  {
   "cell_type": "code",
   "execution_count": null,
   "metadata": {},
   "outputs": [],
   "source": [
    "import heapq\n",
    "\n",
    "class MedianFinder(object):\n",
    "\n",
    "    def __init__(self):\n",
    "        self.maxheap = []\n",
    "        heapq._heapify_max(self.maxheap) \n",
    "        self.minheap = []\n",
    "        heapq.heapify(self.minheap) \n",
    "\n",
    "    def addNum(self, num):\n",
    "        \"\"\"\n",
    "        :type num: int\n",
    "        :rtype: None\n",
    "        \"\"\"\n",
    "        self.maxheap.push(num)\n",
    "        if len()\n",
    "\n",
    "    def findMedian(self):\n",
    "        \"\"\"\n",
    "        :rtype: float\n",
    "        \"\"\"\n",
    "        pass"
   ]
  },
  {
   "cell_type": "code",
   "execution_count": null,
   "metadata": {},
   "outputs": [],
   "source": [
    "# test code"
   ]
  },
  {
   "attachments": {},
   "cell_type": "markdown",
   "metadata": {},
   "source": [
    "## More Patterns More Problems\n",
    "\n",
    "The following [list](https://leetcode.com/tag/heap-priority-queue/) will reveal every heap pattern question in leetcode. I recommend starting with:\n",
    "\n",
    "* [Data Stream](https://leetcode.com/problems/find-median-from-data-stream/)\n",
    "* [Sliding Window Median](https://leetcode.com/problems/sliding-window-median/)"
   ]
  }
 ],
 "metadata": {
  "kernelspec": {
   "display_name": "Python 3",
   "language": "python",
   "name": "python3"
  },
  "language_info": {
   "codemirror_mode": {
    "name": "ipython",
    "version": 3
   },
   "file_extension": ".py",
   "mimetype": "text/x-python",
   "name": "python",
   "nbconvert_exporter": "python",
   "pygments_lexer": "ipython3",
   "version": "3.10.7"
  },
  "orig_nbformat": 4
 },
 "nbformat": 4,
 "nbformat_minor": 2
}
