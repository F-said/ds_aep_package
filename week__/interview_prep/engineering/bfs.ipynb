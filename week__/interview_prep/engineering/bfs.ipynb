{
 "cells": [
  {
   "attachments": {},
   "cell_type": "markdown",
   "metadata": {},
   "source": [
    "## Tree Abstract Data Type\n",
    "\n",
    "A tree is an object composed of nodes & connections. We start from a root-tree and then generate branches that lead to children. Abstractly, think of this as a family-tree, where the great-grandparents are at the top, the grandparents are a level below, the parents are at the 3rd level, and then finally the bottom-most nodes constitute the children.\n",
    "\n",
    "One type of tree that we will discuss today is a binary tree. This is a tree that strictly has two or less (hence the binary) children for every parent node.\n",
    "\n",
    "https://www.tutorialspoint.com/python_data_structure/python_binary_tree.htm"
   ]
  },
  {
   "cell_type": "code",
   "execution_count": null,
   "metadata": {},
   "outputs": [],
   "source": [
    "class TreeNode:\n",
    "  def __init__(self, val, left=None, right=None):\n",
    "    self.val = val\n",
    "    self.left = left\n",
    "    self.right = right\n",
    "\n",
    "root = TreeNode(12)\n",
    "root.left = TreeNode(7)\n",
    "root.right = TreeNode(1)\n",
    "root.left.left = TreeNode(9)\n",
    "root.right.left = TreeNode(10)\n",
    "root.right.right = TreeNode(5)"
   ]
  },
  {
   "attachments": {},
   "cell_type": "markdown",
   "metadata": {},
   "source": [
    "## Breadth First Search (BFS)\n",
    "\n",
    "The BFS algorithm prioritize `breadth` over `depth`. That is, it will explore every single possible neighbor, before moving to another \"level\" of our graph. A visualization of this algorithm is included [here](https://www.youtube.com/watch?v=QRq6p9s8NVg).\n",
    "\n",
    "A fundemental part of this algorithm is the [queue](https://www.geeksforgeeks.org/queue-data-structure/). If your first exposure to the English language was British English (as opposed to American English), you'll recognize this word as simply meaning \"line.\" That is, the first element in is the first element out (FIFO). \n",
    "\n",
    "Thankfully, the algorithm for BFS will simply be the same thing as DFS, but just with the `queue` data-structure. Now, bfs and dfs are fundementally used for different use-cases. However, notice that they are essentially the **same** algorithm with simply one data-structure swapped out! This proves that data-structures are just as important as algorithms when it comes to engineering.\n",
    "\n",
    "Never underestimate the value of using a different data-structure!!!\n",
    "\n",
    "**BFS Pseudocode**\n",
    "\n",
    "1. Create an empty **queue**\n",
    "2. Create an empty set called seen\n",
    "3. Push first position to **queue**\n",
    "4. Push first position to seen\n",
    "5. While **queue** is not empty:\n",
    "    1. Pop **queue** and get first added position\n",
    "    2. Search through every possible neighbor of last seen position (North, South, East, West)\n",
    "    3. If neighbor is land and not seen, push to seen & stack"
   ]
  },
  {
   "cell_type": "code",
   "execution_count": null,
   "metadata": {},
   "outputs": [],
   "source": [
    "def bfs(root):\n",
    "    queue = []\n",
    "    seen = set()\n",
    "    queue.append(root)\n",
    "    seen.add(root)\n",
    "\n",
    "    while len(queue) != 0:\n",
    "        node = queue.pop(0)\n",
    "        neighbors = get_neighbors(node)\n",
    "        for n in neighbors:\n",
    "            if n not in seen:\n",
    "                queue.append(n)\n",
    "                seen.add(n)"
   ]
  },
  {
   "attachments": {},
   "cell_type": "markdown",
   "metadata": {},
   "source": [
    "## Binary Tree Level Order Traversal\n",
    "\n",
    "We can also use BFS when it comes to traversing a tree level-by-level, as opposed to path-by-path. Let's take a look at an example leetcode question that utilizes BFS.\n",
    "\n",
    "Given a binary tree, populate an array to represent its level-by-level traversal. You should populate the values of all nodes of each level from left to right in separate lists."
   ]
  },
  {
   "attachments": {},
   "cell_type": "markdown",
   "metadata": {},
   "source": [
    "Since we need to traverse all nodes of each level before moving onto the next level, we can use the Breadth First Search (BFS) technique to solve this problem.\n",
    "\n",
    "We can use a queue to efficiently traverse in BFS fashion. Here are the steps of our algorithm:\n",
    "\n",
    "1. Start by pushing the root node to the queue.\n",
    "2. Keep iterating until the queue is empty.\n",
    "    1. In each iteration, first count the elements in the queue (let’s call it levelSize). We will have these many nodes in the current level.\n",
    "    2. Next, remove levelSize nodes from the queue and push their value in an array to represent the current level.\n",
    "    3. After removing each node from the queue, insert both of its children into the queue.\n",
    "    4. If the queue is not empty, repeat the loop"
   ]
  },
  {
   "cell_type": "code",
   "execution_count": 2,
   "metadata": {},
   "outputs": [
    {
     "name": "stdout",
     "output_type": "stream",
     "text": [
      "Level order traversal: [[12], [7, 1], [9, 10, 5]]\n"
     ]
    }
   ],
   "source": [
    "class TreeNode:\n",
    "  def __init__(self, val, left=None, right=None):\n",
    "    self.val = val\n",
    "    self.left = left\n",
    "    self.right = right\n",
    "\n",
    "root = TreeNode(12)\n",
    "root.left = TreeNode(7)\n",
    "root.right = TreeNode(1)\n",
    "root.left.left = TreeNode(9)\n",
    "root.right.left = TreeNode(10)\n",
    "root.right.right = TreeNode(5)\n",
    "\n",
    "def traverse(root):\n",
    "    queue = []\n",
    "    queue.append(root)\n",
    "\n",
    "    # we can omit \"seen\", since we are only going one direction\n",
    "    # seen = set()\n",
    "    # seen.add(root)\n",
    "    levels = []\n",
    "    # while the queue is not empty\n",
    "    while len(queue) != 0:\n",
    "\n",
    "        # get the number of children nodes at the level\n",
    "        level_size = len(queue)\n",
    "        sub_level = []\n",
    "\n",
    "        # append all children nodes into a sub-array\n",
    "        for _ in range(level_size):\n",
    "            node = queue.pop(0)\n",
    "            sub_level.append(node.val)\n",
    "\n",
    "            # ge the children of these children\n",
    "            left_child = node.left\n",
    "            right_child = node.right\n",
    "\n",
    "            # if they are not None, append them to the queue\n",
    "            if left_child is not None:\n",
    "                queue.append(left_child)\n",
    "            if right_child is not None:\n",
    "               queue.append(right_child)\n",
    "        levels.append(sub_level)\n",
    "    return levels\n",
    "    \n",
    "levels = traverse(root)\n",
    "\n",
    "print(\"Level order traversal: \" + str(levels))"
   ]
  },
  {
   "attachments": {},
   "cell_type": "markdown",
   "metadata": {},
   "source": [
    "## More Patterns More Problems\n",
    "\n",
    "Take a look at the following list of questions to explore more:\n",
    "\n",
    "* [Binary Tree Level Order Traversal](https://leetcode.com/problems/binary-tree-level-order-traversal/)\n",
    "* [Binary Tree Level Order Traversal II](https://leetcode.com/problems/binary-tree-level-order-traversal-ii/)\n",
    "* [ZigZag Traversal](https://leetcode.com/problems/binary-tree-zigzag-level-order-traversal/)"
   ]
  }
 ],
 "metadata": {
  "kernelspec": {
   "display_name": "Python 3",
   "language": "python",
   "name": "python3"
  },
  "language_info": {
   "codemirror_mode": {
    "name": "ipython",
    "version": 3
   },
   "file_extension": ".py",
   "mimetype": "text/x-python",
   "name": "python",
   "nbconvert_exporter": "python",
   "pygments_lexer": "ipython3",
   "version": "3.10.7"
  },
  "orig_nbformat": 4
 },
 "nbformat": 4,
 "nbformat_minor": 2
}
