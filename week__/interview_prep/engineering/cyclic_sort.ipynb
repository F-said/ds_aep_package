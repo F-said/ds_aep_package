{
 "cells": [
  {
   "attachments": {},
   "cell_type": "markdown",
   "metadata": {},
   "source": [
    "## Cyclic Sort\n",
    "\n",
    "**Use-Case** : Let's say we are given an array (aka list) containing numbers in a strict range of `a` to `b`. (Usually this is 1 to n or 0 to n). \n",
    "\n",
    "Sometimes within problems, there are duplicates within this range, so we are not guaranteed that each number will appear in our list. However we are guaranteed that the numbers will be >= `a` and `<=` b. How can we use this fact to assist our time-complexity?\n",
    "\n",
    "**Example problem** : We are given an array containing n objects. Each object, when created, was assigned a unique number from the range 1 to n based on their creation sequence. This means that the object with sequence number 3 was created just before the object with sequence number 4.\n",
    "\n",
    "### Example 2\n",
    "We are given an array containing n distinct numbers taken from the range 0 to n. Since the array has only n numbers out of the total n+1 numbers, find the missing number.\n",
    "\n",
    "### Example 3\n",
    "We are given an unsorted array containing numbers taken from the range 1 to ‘n’. The array can have duplicates, which means some numbers will be missing. Find all those missing numbers.\n"
   ]
  },
  {
   "attachments": {},
   "cell_type": "markdown",
   "metadata": {},
   "source": [
    "Let's focus on the first example problem, and see what sort of pattern reveals itself to us.\n",
    "\n",
    "While we could apply a sort that takes `O(N^2)`, this will not take advantage of the range of values that are guaranteed to show up in this list.\n",
    "\n",
    "Consider: \n",
    "* we are given a list of `n` elements\n",
    "* numbers strictly ranging from 1 to n\n",
    "\n",
    "What feature of an array also guarantees a range of numbers from 1 to n? The index,\n",
    "\n",
    "We could assume that each `index` of our array is a good indicator as to what value should be showing up in that position! \n",
    "\n",
    "Once we make that assumption, creating a sorted list actually becomes quite trivial. We simply use a while-loop to check each index of our list. If an element is not properly sorted, we make a swap with the position that the number SHOULD be in.\n",
    "\n",
    "We continue this swap until we get the number that we are looking for in the position that we are at, and then continue the sort."
   ]
  },
  {
   "attachments": {},
   "cell_type": "markdown",
   "metadata": {},
   "source": [
    "Let's write down what we have so far...\n",
    "\n",
    "**Cyclic Sort Pattern**\n",
    "\n",
    "1. while i < len(nums)\n",
    "    1. calculate the position that the value of index i should be in\n",
    "    2. if this value is not in position i\n",
    "        1. perform a swap with the intended position\n",
    "    3. else, continue the loop\n",
    "\n",
    "The following is a mix of pseudocode and Python code. Attempt to complete this problem!"
   ]
  },
  {
   "cell_type": "code",
   "execution_count": null,
   "metadata": {},
   "outputs": [],
   "source": [
    "def cyclic_sort(nums):\n",
    "  i = 0\n",
    "  while i < len(nums):\n",
    "    # calculate the index position that the value at index \"i\" should be\n",
    "    if # the calculated value is NOT what is at position i:\n",
    "       # swap\n",
    "    else:\n",
    "      # continue increment\n",
    "  return nums"
   ]
  },
  {
   "attachments": {},
   "cell_type": "markdown",
   "metadata": {},
   "source": [
    "## Time Complexity \n",
    "\n",
    "Consider the time complexity of this problem. \n",
    "\n",
    "In the worst case, how many swaps will it take our algorithm until we are in sorted order? From there, how many iterations will it take to go through the successfully sorted list?"
   ]
  },
  {
   "attachments": {},
   "cell_type": "markdown",
   "metadata": {},
   "source": [
    "## More Patterns, More Problems\n",
    "\n",
    "Problems that can be solved using cyclic sort:\n",
    "\n",
    "* [Missing Num](https://leetcode.com/problems/missing-number/)\n",
    "* [All Missing Num](https://leetcode.com/problems/find-all-numbers-disappeared-in-an-array/)"
   ]
  }
 ],
 "metadata": {
  "kernelspec": {
   "display_name": "Python 3",
   "language": "python",
   "name": "python3"
  },
  "language_info": {
   "codemirror_mode": {
    "name": "ipython",
    "version": 3
   },
   "file_extension": ".py",
   "mimetype": "text/x-python",
   "name": "python",
   "nbconvert_exporter": "python",
   "pygments_lexer": "ipython3",
   "version": "3.10.7"
  },
  "orig_nbformat": 4,
  "vscode": {
   "interpreter": {
    "hash": "369f2c481f4da34e4445cda3fffd2e751bd1c4d706f27375911949ba6bb62e1c"
   }
  }
 },
 "nbformat": 4,
 "nbformat_minor": 2
}
